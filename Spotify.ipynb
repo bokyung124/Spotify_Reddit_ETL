{
  "cells": [
    {
      "cell_type": "markdown",
      "metadata": {
        "id": "lPDbfIJqoZ4P"
      },
      "source": [
        "## Spotify API"
      ]
    },
    {
      "cell_type": "code",
      "execution_count": 1,
      "metadata": {
        "colab": {
          "base_uri": "https://localhost:8080/"
        },
        "id": "cLkBDm0UgW1z",
        "outputId": "408429ee-d6db-49b0-89d9-aaed6e5c695c"
      },
      "outputs": [],
      "source": [
        "#!pip install spotipy"
      ]
    },
    {
      "cell_type": "code",
      "execution_count": null,
      "metadata": {
        "id": "qeOGmRbjoWMY"
      },
      "outputs": [],
      "source": [
        "import spotipy\n",
        "from spotipy.oauth2 import SpotifyClientCredentials\n",
        "import pprint"
      ]
    },
    {
      "cell_type": "code",
      "execution_count": null,
      "metadata": {
        "id": "JbjXhIcTocsK"
      },
      "outputs": [],
      "source": [
        "cid = '***'\n",
        "secret = '***'\n",
        "client_credentials_manager = SpotifyClientCredentials(client_id=cid, client_secret=secret)\n",
        "\n",
        "sp = spotipy.Spotify(client_credentials_manager=client_credentials_manager)"
      ]
    },
    {
      "cell_type": "code",
      "execution_count": null,
      "metadata": {
        "id": "l7iOn2oWod52"
      },
      "outputs": [],
      "source": [
        "import requests\n",
        "import json\n",
        "import base64\n",
        "import pandas as pd\n",
        "import numpy as np"
      ]
    },
    {
      "cell_type": "code",
      "execution_count": null,
      "metadata": {
        "id": "P1f95Bdmoo-4"
      },
      "outputs": [],
      "source": [
        "def get_headers(client_id, client_secret):\n",
        "    endpoint = 'https://accounts.spotify.com/api/token'\n",
        "    encoded = base64.b64encode((client_id+':'+client_secret).encode('utf-8')).decode('ascii')\n",
        "    headers = {'Authorization': 'Basic {auth}'.format(auth=encoded)}\n",
        "    payload = {'grant_type':'client_credentials'}\n",
        "    r = requests.post(endpoint, data=payload, headers=headers)\n",
        "    acess_token = json.loads(r.text).get('access_token')\n",
        "    headers = {'Authorization': 'Bearer {auth}'.format(auth=acess_token)}\n",
        "    return headers"
      ]
    },
    {
      "cell_type": "code",
      "execution_count": null,
      "metadata": {
        "id": "Lw_513tVCSQb"
      },
      "outputs": [],
      "source": [
        "next_key = 1\n",
        "new_release = {}\n",
        "\n",
        "def add_item(dic, value):\n",
        "    global next_key\n",
        "    dic[next_key] = value\n",
        "    next_key += 1"
      ]
    },
    {
      "cell_type": "code",
      "execution_count": null,
      "metadata": {
        "id": "hsJsa6FbFY0h"
      },
      "outputs": [],
      "source": [
        "def get_album(album_id):\n",
        "    endpoint = f'https://api.spotify.com/v1/albums/{album_id}'\n",
        "    headers = get_headers(client_id, client_secret)\n",
        "    r = requests.get(endpoint, headers=headers)\n",
        "    return json.loads(r.text)\n",
        "\n",
        "def get_artist(artist_id):\n",
        "    endpoint = f'https://api.spotify.com/v1/artists/{artist_id}'\n",
        "    headers = get_headers(client_id, client_secret)\n",
        "    r = requests.get(endpoint, headers=headers)\n",
        "    return json.loads(r.text)\n",
        "\n",
        "def get_genres(album_id):\n",
        "    album = get_album(album_id)\n",
        "    genres = album.get('genres')\n",
        "    artists = album['artists']\n",
        "    for artist in artists:\n",
        "        artist_id = artist['id']\n",
        "        artist_info = get_artist(artist_id)\n",
        "        genres = artist_info['genres']\n",
        "    return genres"
      ]
    },
    {
      "cell_type": "code",
      "execution_count": null,
      "metadata": {
        "id": "iVItO7mAorZB"
      },
      "outputs": [],
      "source": [
        "client_id = '***'\n",
        "client_secret = '***'\n",
        "\n",
        "def new_release_album(client_id, client_secret):\n",
        "    endpoint = 'https://api.spotify.com/v1/browse/new-releases'\n",
        "    headers = get_headers(client_id, client_secret)\n",
        "    params = {\n",
        "        'limit':50\n",
        "    }\n",
        "    r = requests.get(endpoint, params = params, headers = headers)\n",
        "\n",
        "    if r.status_code == 200:\n",
        "        data = json.loads(r.text)\n",
        "        for d in data.get('albums').get('items'):\n",
        "            for a in d.get('artists'):\n",
        "                artist = a['name']\n",
        "                artist_id = a['id']\n",
        "            album_name = d.get('name')\n",
        "            album_id = d.get('id')\n",
        "            date = d.get('release_date')\n",
        "            genres = get_genres(album_id)\n",
        "            add_item(new_release, {'album':album_name, 'album_id': album_id, 'date':date, 'artist': artist, 'artist_id':artist_id, 'genres': genres})\n",
        "    else:\n",
        "        print('error! status code: ', r.status_code)\n",
        "    return new_release"
      ]
    },
    {
      "cell_type": "code",
      "execution_count": null,
      "metadata": {
        "id": "_Ua--zuHoslL"
      },
      "outputs": [],
      "source": [
        "new_release_album(client_id, client_secret)"
      ]
    },
    {
      "cell_type": "code",
      "execution_count": null,
      "metadata": {
        "id": "4mqGAxHGuM2-"
      },
      "outputs": [],
      "source": [
        "album_df = pd.DataFrame(new_release)\n",
        "album_df = album_df.transpose()"
      ]
    },
    {
      "cell_type": "code",
      "execution_count": null,
      "metadata": {
        "colab": {
          "base_uri": "https://localhost:8080/",
          "height": 206
        },
        "id": "lPOeZ62hzBKe",
        "outputId": "9b92ef42-bf0a-4bfe-85b7-60dd0b26199c"
      },
      "outputs": [
        {
          "data": {
            "text/html": [
              "\n",
              "  <div id=\"df-3c21965b-39e5-4862-85f5-3d8424eaeb68\" class=\"colab-df-container\">\n",
              "    <div>\n",
              "<style scoped>\n",
              "    .dataframe tbody tr th:only-of-type {\n",
              "        vertical-align: middle;\n",
              "    }\n",
              "\n",
              "    .dataframe tbody tr th {\n",
              "        vertical-align: top;\n",
              "    }\n",
              "\n",
              "    .dataframe thead th {\n",
              "        text-align: right;\n",
              "    }\n",
              "</style>\n",
              "<table border=\"1\" class=\"dataframe\">\n",
              "  <thead>\n",
              "    <tr style=\"text-align: right;\">\n",
              "      <th></th>\n",
              "      <th>album</th>\n",
              "      <th>album_id</th>\n",
              "      <th>date</th>\n",
              "      <th>artist</th>\n",
              "      <th>artist_id</th>\n",
              "      <th>genres</th>\n",
              "    </tr>\n",
              "  </thead>\n",
              "  <tbody>\n",
              "    <tr>\n",
              "      <th>1</th>\n",
              "      <td>Closer Than This</td>\n",
              "      <td>3auDI7RSdoJr99qMNXimP4</td>\n",
              "      <td>2023-12-22</td>\n",
              "      <td>Jimin</td>\n",
              "      <td>1oSPZhvZMIrWW5I41kPkkY</td>\n",
              "      <td>[k-pop]</td>\n",
              "    </tr>\n",
              "    <tr>\n",
              "      <th>2</th>\n",
              "      <td>Lace It (with Eminem &amp; benny blanco)</td>\n",
              "      <td>5nOfPCLpHGpayGrUNHAPLt</td>\n",
              "      <td>2023-12-16</td>\n",
              "      <td>benny blanco</td>\n",
              "      <td>5CiGnKThu5ctn9pBxv7DGa</td>\n",
              "      <td>[pop]</td>\n",
              "    </tr>\n",
              "    <tr>\n",
              "      <th>3</th>\n",
              "      <td>The End</td>\n",
              "      <td>5yQSR4I6kIx4a7Siq2Q6vZ</td>\n",
              "      <td>2023-12-22</td>\n",
              "      <td>Tom Odell</td>\n",
              "      <td>2txHhyCwHjUEpJjWrEyqyX</td>\n",
              "      <td>[chill pop]</td>\n",
              "    </tr>\n",
              "    <tr>\n",
              "      <th>4</th>\n",
              "      <td>Entrapreneur</td>\n",
              "      <td>6VrYcDdRM3W0eqHbaTKcWh</td>\n",
              "      <td>2023-12-21</td>\n",
              "      <td>Central Cee</td>\n",
              "      <td>5H4yInM5zmHqpKIoMNAx4r</td>\n",
              "      <td>[melodic drill, r&amp;drill]</td>\n",
              "    </tr>\n",
              "    <tr>\n",
              "      <th>5</th>\n",
              "      <td>Saliendo del Planeta</td>\n",
              "      <td>4c9baK6KJXLlly01POapWY</td>\n",
              "      <td>2023-12-22</td>\n",
              "      <td>Saiko</td>\n",
              "      <td>2O8vbr4RYPpk6MRA4fio7u</td>\n",
              "      <td>[trap latino, urbano espanol, urbano latino]</td>\n",
              "    </tr>\n",
              "  </tbody>\n",
              "</table>\n",
              "</div>\n",
              "    <div class=\"colab-df-buttons\">\n",
              "\n",
              "  <div class=\"colab-df-container\">\n",
              "    <button class=\"colab-df-convert\" onclick=\"convertToInteractive('df-3c21965b-39e5-4862-85f5-3d8424eaeb68')\"\n",
              "            title=\"Convert this dataframe to an interactive table.\"\n",
              "            style=\"display:none;\">\n",
              "\n",
              "  <svg xmlns=\"http://www.w3.org/2000/svg\" height=\"24px\" viewBox=\"0 -960 960 960\">\n",
              "    <path d=\"M120-120v-720h720v720H120Zm60-500h600v-160H180v160Zm220 220h160v-160H400v160Zm0 220h160v-160H400v160ZM180-400h160v-160H180v160Zm440 0h160v-160H620v160ZM180-180h160v-160H180v160Zm440 0h160v-160H620v160Z\"/>\n",
              "  </svg>\n",
              "    </button>\n",
              "\n",
              "  <style>\n",
              "    .colab-df-container {\n",
              "      display:flex;\n",
              "      gap: 12px;\n",
              "    }\n",
              "\n",
              "    .colab-df-convert {\n",
              "      background-color: #E8F0FE;\n",
              "      border: none;\n",
              "      border-radius: 50%;\n",
              "      cursor: pointer;\n",
              "      display: none;\n",
              "      fill: #1967D2;\n",
              "      height: 32px;\n",
              "      padding: 0 0 0 0;\n",
              "      width: 32px;\n",
              "    }\n",
              "\n",
              "    .colab-df-convert:hover {\n",
              "      background-color: #E2EBFA;\n",
              "      box-shadow: 0px 1px 2px rgba(60, 64, 67, 0.3), 0px 1px 3px 1px rgba(60, 64, 67, 0.15);\n",
              "      fill: #174EA6;\n",
              "    }\n",
              "\n",
              "    .colab-df-buttons div {\n",
              "      margin-bottom: 4px;\n",
              "    }\n",
              "\n",
              "    [theme=dark] .colab-df-convert {\n",
              "      background-color: #3B4455;\n",
              "      fill: #D2E3FC;\n",
              "    }\n",
              "\n",
              "    [theme=dark] .colab-df-convert:hover {\n",
              "      background-color: #434B5C;\n",
              "      box-shadow: 0px 1px 3px 1px rgba(0, 0, 0, 0.15);\n",
              "      filter: drop-shadow(0px 1px 2px rgba(0, 0, 0, 0.3));\n",
              "      fill: #FFFFFF;\n",
              "    }\n",
              "  </style>\n",
              "\n",
              "    <script>\n",
              "      const buttonEl =\n",
              "        document.querySelector('#df-3c21965b-39e5-4862-85f5-3d8424eaeb68 button.colab-df-convert');\n",
              "      buttonEl.style.display =\n",
              "        google.colab.kernel.accessAllowed ? 'block' : 'none';\n",
              "\n",
              "      async function convertToInteractive(key) {\n",
              "        const element = document.querySelector('#df-3c21965b-39e5-4862-85f5-3d8424eaeb68');\n",
              "        const dataTable =\n",
              "          await google.colab.kernel.invokeFunction('convertToInteractive',\n",
              "                                                    [key], {});\n",
              "        if (!dataTable) return;\n",
              "\n",
              "        const docLinkHtml = 'Like what you see? Visit the ' +\n",
              "          '<a target=\"_blank\" href=https://colab.research.google.com/notebooks/data_table.ipynb>data table notebook</a>'\n",
              "          + ' to learn more about interactive tables.';\n",
              "        element.innerHTML = '';\n",
              "        dataTable['output_type'] = 'display_data';\n",
              "        await google.colab.output.renderOutput(dataTable, element);\n",
              "        const docLink = document.createElement('div');\n",
              "        docLink.innerHTML = docLinkHtml;\n",
              "        element.appendChild(docLink);\n",
              "      }\n",
              "    </script>\n",
              "  </div>\n",
              "\n",
              "\n",
              "<div id=\"df-d9e3970c-f53e-425b-bdea-fe3f43fb8468\">\n",
              "  <button class=\"colab-df-quickchart\" onclick=\"quickchart('df-d9e3970c-f53e-425b-bdea-fe3f43fb8468')\"\n",
              "            title=\"Suggest charts\"\n",
              "            style=\"display:none;\">\n",
              "\n",
              "<svg xmlns=\"http://www.w3.org/2000/svg\" height=\"24px\"viewBox=\"0 0 24 24\"\n",
              "     width=\"24px\">\n",
              "    <g>\n",
              "        <path d=\"M19 3H5c-1.1 0-2 .9-2 2v14c0 1.1.9 2 2 2h14c1.1 0 2-.9 2-2V5c0-1.1-.9-2-2-2zM9 17H7v-7h2v7zm4 0h-2V7h2v10zm4 0h-2v-4h2v4z\"/>\n",
              "    </g>\n",
              "</svg>\n",
              "  </button>\n",
              "\n",
              "<style>\n",
              "  .colab-df-quickchart {\n",
              "      --bg-color: #E8F0FE;\n",
              "      --fill-color: #1967D2;\n",
              "      --hover-bg-color: #E2EBFA;\n",
              "      --hover-fill-color: #174EA6;\n",
              "      --disabled-fill-color: #AAA;\n",
              "      --disabled-bg-color: #DDD;\n",
              "  }\n",
              "\n",
              "  [theme=dark] .colab-df-quickchart {\n",
              "      --bg-color: #3B4455;\n",
              "      --fill-color: #D2E3FC;\n",
              "      --hover-bg-color: #434B5C;\n",
              "      --hover-fill-color: #FFFFFF;\n",
              "      --disabled-bg-color: #3B4455;\n",
              "      --disabled-fill-color: #666;\n",
              "  }\n",
              "\n",
              "  .colab-df-quickchart {\n",
              "    background-color: var(--bg-color);\n",
              "    border: none;\n",
              "    border-radius: 50%;\n",
              "    cursor: pointer;\n",
              "    display: none;\n",
              "    fill: var(--fill-color);\n",
              "    height: 32px;\n",
              "    padding: 0;\n",
              "    width: 32px;\n",
              "  }\n",
              "\n",
              "  .colab-df-quickchart:hover {\n",
              "    background-color: var(--hover-bg-color);\n",
              "    box-shadow: 0 1px 2px rgba(60, 64, 67, 0.3), 0 1px 3px 1px rgba(60, 64, 67, 0.15);\n",
              "    fill: var(--button-hover-fill-color);\n",
              "  }\n",
              "\n",
              "  .colab-df-quickchart-complete:disabled,\n",
              "  .colab-df-quickchart-complete:disabled:hover {\n",
              "    background-color: var(--disabled-bg-color);\n",
              "    fill: var(--disabled-fill-color);\n",
              "    box-shadow: none;\n",
              "  }\n",
              "\n",
              "  .colab-df-spinner {\n",
              "    border: 2px solid var(--fill-color);\n",
              "    border-color: transparent;\n",
              "    border-bottom-color: var(--fill-color);\n",
              "    animation:\n",
              "      spin 1s steps(1) infinite;\n",
              "  }\n",
              "\n",
              "  @keyframes spin {\n",
              "    0% {\n",
              "      border-color: transparent;\n",
              "      border-bottom-color: var(--fill-color);\n",
              "      border-left-color: var(--fill-color);\n",
              "    }\n",
              "    20% {\n",
              "      border-color: transparent;\n",
              "      border-left-color: var(--fill-color);\n",
              "      border-top-color: var(--fill-color);\n",
              "    }\n",
              "    30% {\n",
              "      border-color: transparent;\n",
              "      border-left-color: var(--fill-color);\n",
              "      border-top-color: var(--fill-color);\n",
              "      border-right-color: var(--fill-color);\n",
              "    }\n",
              "    40% {\n",
              "      border-color: transparent;\n",
              "      border-right-color: var(--fill-color);\n",
              "      border-top-color: var(--fill-color);\n",
              "    }\n",
              "    60% {\n",
              "      border-color: transparent;\n",
              "      border-right-color: var(--fill-color);\n",
              "    }\n",
              "    80% {\n",
              "      border-color: transparent;\n",
              "      border-right-color: var(--fill-color);\n",
              "      border-bottom-color: var(--fill-color);\n",
              "    }\n",
              "    90% {\n",
              "      border-color: transparent;\n",
              "      border-bottom-color: var(--fill-color);\n",
              "    }\n",
              "  }\n",
              "</style>\n",
              "\n",
              "  <script>\n",
              "    async function quickchart(key) {\n",
              "      const quickchartButtonEl =\n",
              "        document.querySelector('#' + key + ' button');\n",
              "      quickchartButtonEl.disabled = true;  // To prevent multiple clicks.\n",
              "      quickchartButtonEl.classList.add('colab-df-spinner');\n",
              "      try {\n",
              "        const charts = await google.colab.kernel.invokeFunction(\n",
              "            'suggestCharts', [key], {});\n",
              "      } catch (error) {\n",
              "        console.error('Error during call to suggestCharts:', error);\n",
              "      }\n",
              "      quickchartButtonEl.classList.remove('colab-df-spinner');\n",
              "      quickchartButtonEl.classList.add('colab-df-quickchart-complete');\n",
              "    }\n",
              "    (() => {\n",
              "      let quickchartButtonEl =\n",
              "        document.querySelector('#df-d9e3970c-f53e-425b-bdea-fe3f43fb8468 button');\n",
              "      quickchartButtonEl.style.display =\n",
              "        google.colab.kernel.accessAllowed ? 'block' : 'none';\n",
              "    })();\n",
              "  </script>\n",
              "</div>\n",
              "\n",
              "    </div>\n",
              "  </div>\n"
            ],
            "text/plain": [
              "                                  album                album_id        date  \\\n",
              "1                      Closer Than This  3auDI7RSdoJr99qMNXimP4  2023-12-22   \n",
              "2  Lace It (with Eminem & benny blanco)  5nOfPCLpHGpayGrUNHAPLt  2023-12-16   \n",
              "3                               The End  5yQSR4I6kIx4a7Siq2Q6vZ  2023-12-22   \n",
              "4                          Entrapreneur  6VrYcDdRM3W0eqHbaTKcWh  2023-12-21   \n",
              "5                  Saliendo del Planeta  4c9baK6KJXLlly01POapWY  2023-12-22   \n",
              "\n",
              "         artist               artist_id  \\\n",
              "1         Jimin  1oSPZhvZMIrWW5I41kPkkY   \n",
              "2  benny blanco  5CiGnKThu5ctn9pBxv7DGa   \n",
              "3     Tom Odell  2txHhyCwHjUEpJjWrEyqyX   \n",
              "4   Central Cee  5H4yInM5zmHqpKIoMNAx4r   \n",
              "5         Saiko  2O8vbr4RYPpk6MRA4fio7u   \n",
              "\n",
              "                                         genres  \n",
              "1                                       [k-pop]  \n",
              "2                                         [pop]  \n",
              "3                                   [chill pop]  \n",
              "4                      [melodic drill, r&drill]  \n",
              "5  [trap latino, urbano espanol, urbano latino]  "
            ]
          },
          "execution_count": 13,
          "metadata": {},
          "output_type": "execute_result"
        }
      ],
      "source": [
        "album_df.head()"
      ]
    },
    {
      "cell_type": "code",
      "execution_count": null,
      "metadata": {
        "colab": {
          "base_uri": "https://localhost:8080/"
        },
        "id": "nI7EuOMvxsRh",
        "outputId": "d3a3f829-0d25-47a5-9596-00dd9765d79e"
      },
      "outputs": [
        {
          "name": "stdout",
          "output_type": "stream",
          "text": [
            "<class 'pandas.core.frame.DataFrame'>\n",
            "Int64Index: 71 entries, 1 to 71\n",
            "Data columns (total 6 columns):\n",
            " #   Column     Non-Null Count  Dtype \n",
            "---  ------     --------------  ----- \n",
            " 0   album      71 non-null     object\n",
            " 1   album_id   71 non-null     object\n",
            " 2   date       71 non-null     object\n",
            " 3   artist     71 non-null     object\n",
            " 4   artist_id  71 non-null     object\n",
            " 5   genres     71 non-null     object\n",
            "dtypes: object(6)\n",
            "memory usage: 3.9+ KB\n"
          ]
        }
      ],
      "source": [
        "album_df.info()"
      ]
    },
    {
      "cell_type": "code",
      "execution_count": null,
      "metadata": {
        "id": "XAxM21KExwgm"
      },
      "outputs": [],
      "source": [
        "album_df['date'] = pd.to_datetime(album_df['date'], format='%Y-%m-%d', errors='raise')"
      ]
    },
    {
      "cell_type": "code",
      "execution_count": null,
      "metadata": {
        "id": "pdUYp1zkzGG3"
      },
      "outputs": [],
      "source": [
        "album_df.to_parquet('album.parquet', index=False)"
      ]
    },
    {
      "cell_type": "markdown",
      "metadata": {
        "id": "UrXl72W-sFrU"
      },
      "source": [
        "### local to S3"
      ]
    },
    {
      "cell_type": "code",
      "execution_count": null,
      "metadata": {
        "id": "IY8Ws1rSn4WW"
      },
      "outputs": [],
      "source": [
        "# !pip3 install boto3"
      ]
    },
    {
      "cell_type": "code",
      "execution_count": null,
      "metadata": {
        "colab": {
          "base_uri": "https://localhost:8080/"
        },
        "id": "WvxalGhAsHcp",
        "outputId": "8d5e3369-1310-469a-d1be-09c95ff8e612"
      },
      "outputs": [
        {
          "name": "stdout",
          "output_type": "stream",
          "text": [
            "s3 bucket connected!\n"
          ]
        }
      ],
      "source": [
        "import boto3\n",
        "\n",
        "def s3_connection():\n",
        "    try:\n",
        "        s3 = boto3.client(\n",
        "            service_name=\"s3\",\n",
        "            region_name=\"us-west-2\",\n",
        "            aws_access_key_id=\"***\",\n",
        "            aws_secret_access_key=\"***\"\n",
        "        )\n",
        "    except Exception as e:\n",
        "        print(e)\n",
        "    else:\n",
        "        print(\"s3 bucket connected!\")\n",
        "        return s3\n",
        "\n",
        "s3 = s3_connection()"
      ]
    },
    {
      "cell_type": "code",
      "execution_count": null,
      "metadata": {
        "id": "BojGD7-osHad"
      },
      "outputs": [],
      "source": [
        "def s3_put_object(s3, bucket, filepath, access_key):\n",
        "    try:\n",
        "        s3.upload_file(\n",
        "            Filename=filepath,\n",
        "            Bucket=bucket,\n",
        "            Key=access_key\n",
        "        )\n",
        "    except Exception as e:\n",
        "        print(e)\n",
        "    return True"
      ]
    },
    {
      "cell_type": "code",
      "execution_count": null,
      "metadata": {
        "colab": {
          "base_uri": "https://localhost:8080/"
        },
        "id": "jpsElR4MsHXz",
        "outputId": "d363dbfc-771d-498e-f1d9-3bf196bc193f"
      },
      "outputs": [
        {
          "data": {
            "text/plain": [
              "True"
            ]
          },
          "execution_count": 33,
          "metadata": {},
          "output_type": "execute_result"
        }
      ],
      "source": [
        "s3_put_object(s3, 'spotify-etl-bk', 'album.parquet', \"album.parquet\")"
      ]
    },
    {
      "cell_type": "markdown",
      "metadata": {
        "id": "3IVMJ8440iYu"
      },
      "source": [
        "### read S3"
      ]
    },
    {
      "cell_type": "code",
      "execution_count": null,
      "metadata": {
        "id": "DE05MRjb1AuZ"
      },
      "outputs": [],
      "source": [
        "import io"
      ]
    },
    {
      "cell_type": "code",
      "execution_count": null,
      "metadata": {
        "colab": {
          "base_uri": "https://localhost:8080/"
        },
        "id": "90tTq_6K0h43",
        "outputId": "6c3f4c48-a499-40bb-d8a6-d2c917288e36"
      },
      "outputs": [
        {
          "name": "stdout",
          "output_type": "stream",
          "text": [
            "                                   album                album_id       date  \\\n",
            "0                       Closer Than This  3auDI7RSdoJr99qMNXimP4 2023-12-22   \n",
            "1   Lace It (with Eminem & benny blanco)  5nOfPCLpHGpayGrUNHAPLt 2023-12-16   \n",
            "2                                The End  5yQSR4I6kIx4a7Siq2Q6vZ 2023-12-22   \n",
            "3                           Entrapreneur  6VrYcDdRM3W0eqHbaTKcWh 2023-12-21   \n",
            "4                   Saliendo del Planeta  4c9baK6KJXLlly01POapWY 2023-12-22   \n",
            "..                                   ...                     ...        ...   \n",
            "66         light (with 9lives & midwxst)  7HJ83Qe1wRgbqHJsSo3sK3 2023-12-15   \n",
            "67                                Novela  7KQdgdXYqfjqnTNsyaVWHd 2023-12-15   \n",
            "68                 Antes De Que Amanezca  2gg7wgRW4yK27ex7rNvWuW 2023-12-15   \n",
            "69                             Asteroids  5jPlekW4E787N4lgsC9G3w 2023-10-30   \n",
            "70                           THINK LATER  0OUOx6rJXtL66AzTnP9KUE 2023-12-08   \n",
            "\n",
            "          artist               artist_id  \\\n",
            "0          Jimin  1oSPZhvZMIrWW5I41kPkkY   \n",
            "1   benny blanco  5CiGnKThu5ctn9pBxv7DGa   \n",
            "2      Tom Odell  2txHhyCwHjUEpJjWrEyqyX   \n",
            "3    Central Cee  5H4yInM5zmHqpKIoMNAx4r   \n",
            "4          Saiko  2O8vbr4RYPpk6MRA4fio7u   \n",
            "..           ...                     ...   \n",
            "66       midwxst  7CGSp2GbiOpLPSq61qjxf8   \n",
            "67        MC Lan  4mb1xtQVGSK5dh8AbtwBiR   \n",
            "68         Morat  5C4PDR4LnhZTbVnKWXuDKD   \n",
            "69       Hit-Boy  6q3p11nP1p80Ey6LrOOSed   \n",
            "70    Tate McRae  45dkTj5sMRSjrmBSBeiHym   \n",
            "\n",
            "                                               genres  \n",
            "0                                             [k-pop]  \n",
            "1                                               [pop]  \n",
            "2                                         [chill pop]  \n",
            "3                            [melodic drill, r&drill]  \n",
            "4        [trap latino, urbano espanol, urbano latino]  \n",
            "..                                                ...  \n",
            "66  [bedroom r&b, glitchcore, hyperpop, proto-hype...  \n",
            "67                    [funk carioca, funk ostentacao]  \n",
            "68                   [colombian pop, latin viral pop]  \n",
            "69                                 [drumless hip hop]  \n",
            "70                                       [alt z, pop]  \n",
            "\n",
            "[71 rows x 6 columns]\n"
          ]
        }
      ],
      "source": [
        "obj = s3.get_object(\n",
        "    Bucket='spotify-etl-bk',\n",
        "    Key='album.parquet'\n",
        ")\n",
        "\n",
        "result = pd.read_parquet(io.BytesIO(obj['Body'].read()))\n",
        "print(result)"
      ]
    },
    {
      "cell_type": "markdown",
      "metadata": {
        "id": "AOxNT6Xe1TgN"
      },
      "source": [
        "## Python to S3 (JSON)"
      ]
    },
    {
      "cell_type": "code",
      "execution_count": null,
      "metadata": {
        "id": "zqqXUxEV1WMi"
      },
      "outputs": [],
      "source": []
    },
    {
      "cell_type": "code",
      "execution_count": null,
      "metadata": {
        "id": "Ad0_GB441WGh"
      },
      "outputs": [],
      "source": []
    },
    {
      "cell_type": "code",
      "execution_count": null,
      "metadata": {
        "id": "R70DPKEx1WEb"
      },
      "outputs": [],
      "source": []
    }
  ],
  "metadata": {
    "colab": {
      "collapsed_sections": [
        "ALpA4yHqZSls"
      ],
      "provenance": []
    },
    "kernelspec": {
      "display_name": "Python 3",
      "name": "python3"
    },
    "language_info": {
      "codemirror_mode": {
        "name": "ipython",
        "version": 3
      },
      "file_extension": ".py",
      "mimetype": "text/x-python",
      "name": "python",
      "nbconvert_exporter": "python",
      "pygments_lexer": "ipython3",
      "version": "3.11.6"
    }
  },
  "nbformat": 4,
  "nbformat_minor": 0
}
